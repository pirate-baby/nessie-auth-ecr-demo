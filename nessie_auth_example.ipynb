{
 "cells": [
  {
   "cell_type": "markdown",
   "id": "eae7a6e2-fadf-4472-86f3-65e3657d224b",
   "metadata": {},
   "source": [
    "### Imports and installs"
   ]
  },
  {
   "cell_type": "code",
   "execution_count": null,
   "id": "017a88fd-e795-4a7a-b0cd-9d34a560f568",
   "metadata": {},
   "outputs": [],
   "source": [
    "!pip3 install locknessie[microsoft] pyiceberg pyarrow s3fs pandas requests"
   ]
  },
  {
   "cell_type": "code",
   "execution_count": null,
   "id": "79877c42-d961-4b7c-a742-849118ff5b89",
   "metadata": {},
   "outputs": [],
   "source": [
    "from locknessie.main import LockNessie\n",
    "from pyiceberg.catalog import load_catalog\n",
    "from pyiceberg.exceptions import SignError, CommitStateUnknownException\n",
    "import pyarrow as pa\n",
    "import requests"
   ]
  },
  {
   "cell_type": "markdown",
   "id": "139ab036-f8e1-4dd6-8945-d99e46e03219",
   "metadata": {},
   "source": [
    "### Setting Up\n",
    "The first thing we want to do is query some data from the existing `demo.sailboats` table. \n",
    "Since our user has `main.Read` permissions in the IDP, this should work. \n",
    "\n",
    "To query the data we'll need a token that is authed as us. Let's do that now."
   ]
  },
  {
   "cell_type": "code",
   "execution_count": null,
   "id": "3c19488c-8e4b-4db5-b26f-72172d2706f9",
   "metadata": {},
   "outputs": [],
   "source": [
    "# authing a token\n",
    "NESSIE_URL = \"http://nessie:19120\"\n",
    "lnessie = LockNessie()\n",
    "token = lnessie.get_token()\n",
    "# If this is your first time running the script, this will print out a URL that \n",
    "# you need to copy and paste into a new browser tab. \n",
    "# Follow the auth instructions in that tab. \n",
    "# The script will block until you have completed this auth in your browser the first time. "
   ]
  },
  {
   "cell_type": "markdown",
   "id": "803298b9-9dce-4afd-9fa7-78f25f208716",
   "metadata": {},
   "source": [
    "### Business Logic \n",
    "There are a few operations we need to perform repeatedly in this demo, so to keep things tidy they are namespaced in the `AuthDemo` class below."
   ]
  },
  {
   "cell_type": "code",
   "execution_count": null,
   "id": "28f8aa6d-53d6-48fc-8b71-f0cd3fa6accc",
   "metadata": {
    "jupyter": {
     "source_hidden": true
    }
   },
   "outputs": [],
   "source": [
    "class AuthDemo:\n",
    "    nessie_url: str\n",
    "    catalog: \"pyiceberg.catalog.rest.RestCatalog\"\n",
    "\n",
    "    def __init__(self, nessie_url:str):\n",
    "        self.nessie_url = nessie_url\n",
    "        self.catalog = None \n",
    "        \n",
    "    def checkout_catalog(self, branch:str) -> None:\n",
    "        \"\"\"sets the working catalog\"\"\"\n",
    "        del self.catalog\n",
    "        self.catalog = load_catalog(\n",
    "        \"nessie\",\n",
    "        **{\n",
    "            \"uri\": f\"{self.nessie_url}/iceberg/{branch}/\",\n",
    "            \"token\": token,\n",
    "            \"header.X-Iceberg-Access-Delegation\": \"remote-signing\",\n",
    "            \"s3.session-token\": \"placeholder\",\n",
    "        }\n",
    "        )\n",
    "    def get_table_from_lakehouse(self, tablename:str) -> \"pyiceberg.iceberg.Table\": \n",
    "        \"\"\"extracts records from the lakehouse on the current branch table\"\"\"\n",
    "        return self.catalog.load_table(\"demo.sailboats\")\n",
    "\n",
    "    @classmethod\n",
    "    def as_pandas(cls, table:\"pyiceberg.iceberg.Table\") -> \"pandas.DataFrame\":\n",
    "        \"\"\"pandas is a bit better known as an API\"\"\"\n",
    "        return table.scan().to_arrow().to_pandas()\n",
    "\n",
    "    def add_a_row(self, table: \"pyiceberg.iceberg.Table\", row:dict) -> None:\n",
    "        \"\"\"writes a row to the datalake table (schema is hardcoded for the demo\"\"\"\n",
    "        schema = pa.schema([\n",
    "            pa.field('id', pa.int32(), nullable=False),\n",
    "            pa.field('name', pa.string()),\n",
    "            pa.field('sailplan', pa.string()),\n",
    "            pa.field('draft', pa.float64()),\n",
    "        ])\n",
    "        new_boat = pa.Table.from_pydict(row, schema=schema)\n",
    "        try:\n",
    "            table.append(new_boat)\n",
    "        except (SignError, CommitStateUnknownException):\n",
    "            RED = '\\033[31m'\n",
    "            RESET = '\\033[0m'\n",
    "            print(f\"{RED}YOU DO NOT HAVE AUTHORIZATION!{RESET}\")\n",
    "\n",
    "    def create_new_branch(self, branch_name:str, from_branch:str)-> bool:\n",
    "        \"\"\"creates a new branch from head of from_branch \n",
    "        Returns: \n",
    "            creation success\n",
    "        \"\"\"\n",
    "        headers={\"Authorization\": f\"Bearer {token}\",\n",
    "                  \"Content-Type\": \"application/json\"\n",
    "                 }\n",
    "        btype={\"type\":\"BRANCH\"}\n",
    "        current_branch_hash = requests.get(f\"{self.nessie_url}/api/v2/trees/{from_branch}\",\n",
    "                                           headers=headers).json()[\"reference\"][\"hash\"]\n",
    "        new_branch_request = requests.post(f\"{self.nessie_url}/api/v2/trees\",\n",
    "                                           headers=headers,\n",
    "                                           params={\"name\":branch_name, **btype},\n",
    "                                           json={\"name\":from_branch,\n",
    "                                                 \"hash\":current_branch_hash,\n",
    "                                                **btype}\n",
    "                                          )\n",
    "        return new_branch_request.json()[\"reference\"]"
   ]
  },
  {
   "cell_type": "markdown",
   "id": "28759f4f-b067-4d47-b3ce-e02206d57ed5",
   "metadata": {},
   "source": [
    "We will start on the `main` branch, which is typically the canonical/production/read-only data source for your organization.\n",
    "An easy way to check your connection is to list the available namespaces;"
   ]
  },
  {
   "cell_type": "code",
   "execution_count": null,
   "id": "2afcbc62-44dc-43a5-b213-2565f98d3094",
   "metadata": {},
   "outputs": [],
   "source": [
    "authdemo = AuthDemo(NESSIE_URL)\n",
    "authdemo.checkout_catalog(\"main\")\n",
    "\n",
    "# this should output a single namespace \"demo\" that was created by el_script.py at startup\n",
    "authdemo.catalog.list_namespaces()"
   ]
  },
  {
   "cell_type": "markdown",
   "id": "dbedf24e-da26-4c49-a309-9dc66977afb1",
   "metadata": {},
   "source": [
    "<details>\n",
    "    <summary style=\"color:red;\">Did you not see a single namespace \"demo\"? </summary>\n",
    "     If not, you will want to print out your token and start debugging. A good place to start is [jwt.io](https://jwt.io), where you can decode the token and make sure the token has: \n",
    "    \n",
    "- the correct audience (should be your client ID)\n",
    "- the correct roles/groups (depending on how your IDP exposes them)\n",
    "- a valid signature\n",
    "</details>"
   ]
  },
  {
   "cell_type": "markdown",
   "id": "639b52e0-4918-4011-ab7e-eba7943ad1af",
   "metadata": {},
   "source": [
    "### Querying The Data Lakehouse\n",
    "Assuming you did see the correct namespace, you can now grab the demo 'sailboats' table and load all the data into a dataframe (just to make it easy to manipulate, since most people are more familiar with the pandas api).\n",
    "\n",
    "_**Note**: there is an annoying \"missing Cython implementation\" you can ignore, this is just a demo we don't need all that speed)._"
   ]
  },
  {
   "cell_type": "code",
   "execution_count": null,
   "id": "836d1908-6e09-4f01-8379-ed6a17fcf984",
   "metadata": {},
   "outputs": [],
   "source": [
    "authdemo = AuthDemo(NESSIE_URL)\n",
    "authdemo.checkout_catalog(\"main\")\n",
    "table = authdemo.get_table_from_lakehouse(\"demo.sailboats\")\n",
    "authdemo.as_pandas(table).head()"
   ]
  },
  {
   "cell_type": "markdown",
   "id": "b3b43fed-6108-4320-8ba9-90f94e399d1c",
   "metadata": {},
   "source": [
    "### Doing Things You Shouldn't\n",
    "Now let's try to write a new boat to the `main` branch. Since this is our production branch and is protected, you should get an error. "
   ]
  },
  {
   "cell_type": "code",
   "execution_count": null,
   "id": "e2ed1e8f-3411-4906-a46d-8677c56b7e67",
   "metadata": {},
   "outputs": [],
   "source": [
    "new_sailboat = {\"id\":[4], \"name\":[\"1979 Tayana 44\"], \"sailplan\": [\"Staysail Ketch\"], \"draft\": [5.6]}\n",
    "authdemo.add_a_row(table, new_sailboat)"
   ]
  },
  {
   "cell_type": "markdown",
   "id": "e87311b2-cdb2-49fc-83ce-038e5f8a7653",
   "metadata": {},
   "source": [
    "### Switching Branches\n",
    "You still want to add this new boat to the data lakehouse, and you can do that in your own branch of the data (not prod). This new branch will be named `new-feature`."
   ]
  },
  {
   "cell_type": "code",
   "execution_count": null,
   "id": "9ce7a834-7768-4d36-b705-159613cd7cc9",
   "metadata": {},
   "outputs": [],
   "source": [
    "authdemo = AuthDemo(NESSIE_URL)\n",
    "authdemo.create_new_branch(\"new-feature\", \"main\")\n",
    "authdemo.checkout_catalog(\"new-feature\")"
   ]
  },
  {
   "cell_type": "markdown",
   "id": "89332c4b-0961-4df7-87bb-08ff31b9d8de",
   "metadata": {},
   "source": [
    "Great! Now that we are off the production `main` branch and on `new-feature`, we can go ahead and manipulate the data. "
   ]
  },
  {
   "cell_type": "code",
   "execution_count": null,
   "id": "599d79ca-5c4d-4f3f-b6c3-46512678d333",
   "metadata": {},
   "outputs": [],
   "source": [
    "# confirm that the new branch matches main, initially\n",
    "table = authdemo.get_table_from_lakehouse(\"demo.sailboats\")\n",
    "authdemo.as_pandas(table).head()"
   ]
  },
  {
   "cell_type": "markdown",
   "id": "3c5e2d53-3887-4935-847d-678de995d24e",
   "metadata": {},
   "source": [
    "### Writing on the New Branch\n",
    "Now we can add the row, and it will work (because we are on a feature branch and not `main`)"
   ]
  },
  {
   "cell_type": "code",
   "execution_count": null,
   "id": "406252d7-c045-4899-b99b-15ba4a17c614",
   "metadata": {},
   "outputs": [],
   "source": [
    "# add the row to the sailboats table on new-feature\n",
    "authdemo.add_a_row(table, new_sailboat)"
   ]
  },
  {
   "cell_type": "code",
   "execution_count": null,
   "id": "fdc4e298-5c0c-4a6e-adc3-6207186cdae4",
   "metadata": {},
   "outputs": [],
   "source": [
    "# confirm that the new row was added to the table\n",
    "table = authdemo.get_table_from_lakehouse(\"demo.sailboats\")\n",
    "authdemo.as_pandas(table)"
   ]
  },
  {
   "cell_type": "markdown",
   "id": "1d5fcde6-a445-4d3b-801b-d1a8cbecd2be",
   "metadata": {},
   "source": [
    "### Confirm Main is Unchanged\n",
    "Now we can switch back to `main` to be sure that the changes we made are isolated to the `new-feature` branch"
   ]
  },
  {
   "cell_type": "code",
   "execution_count": null,
   "id": "d0729b0e-1933-454b-b1c6-d3bfc2fb15d8",
   "metadata": {},
   "outputs": [],
   "source": [
    "authdemo.checkout_catalog(\"main\")\n",
    "main_table = authdemo.get_table_from_lakehouse(\"demo.sailboats\")\n",
    "authdemo.as_pandas(main_table)"
   ]
  },
  {
   "cell_type": "markdown",
   "id": "03a98d25-43ef-414b-a6c3-658e437e34ae",
   "metadata": {},
   "source": [
    "### That's it! \n",
    "You are able to authenticate and correctly access only the data you _should_ be allowed to access. Yay!"
   ]
  }
 ],
 "metadata": {
  "kernelspec": {
   "display_name": "Python 3 (ipykernel)",
   "language": "python",
   "name": "python3"
  },
  "language_info": {
   "codemirror_mode": {
    "name": "ipython",
    "version": 3
   },
   "file_extension": ".py",
   "mimetype": "text/x-python",
   "name": "python",
   "nbconvert_exporter": "python",
   "pygments_lexer": "ipython3",
   "version": "3.12.9"
  }
 },
 "nbformat": 4,
 "nbformat_minor": 5
}
